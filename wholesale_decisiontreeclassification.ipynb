{
  "nbformat": 4,
  "nbformat_minor": 0,
  "metadata": {
    "colab": {
      "name": "Untitled3.ipynb",
      "provenance": [],
      "authorship_tag": "ABX9TyNlPWqj4HTOy792PkEwty/x",
      "include_colab_link": true
    },
    "kernelspec": {
      "name": "python3",
      "display_name": "Python 3"
    },
    "language_info": {
      "name": "python"
    }
  },
  "cells": [
    {
      "cell_type": "markdown",
      "metadata": {
        "id": "view-in-github",
        "colab_type": "text"
      },
      "source": [
        "<a href=\"https://colab.research.google.com/github/fonslucens/test_machinelearning/blob/master/wholesale_decisiontreeclassification.ipynb\" target=\"_parent\"><img src=\"https://colab.research.google.com/assets/colab-badge.svg\" alt=\"Open In Colab\"/></a>"
      ]
    },
    {
      "cell_type": "code",
      "metadata": {
        "id": "R1TmB23RljBp",
        "colab": {
          "base_uri": "https://localhost:8080/"
        },
        "outputId": "93bfd61f-6084-427e-8184-cb591a4f5a0c"
      },
      "source": [
        "!ls"
      ],
      "execution_count": 1,
      "outputs": [
        {
          "output_type": "stream",
          "text": [
            "sample_data\n"
          ],
          "name": "stdout"
        }
      ]
    },
    {
      "cell_type": "code",
      "metadata": {
        "colab": {
          "base_uri": "https://localhost:8080/"
        },
        "id": "pJe4Mm0NftAH",
        "outputId": "921fa4c4-a28f-4ef0-c593-07dcc042bace"
      },
      "source": [
        "!ls -l"
      ],
      "execution_count": 2,
      "outputs": [
        {
          "output_type": "stream",
          "text": [
            "total 4\n",
            "drwxr-xr-x 1 root root 4096 Jun 15 13:37 sample_data\n"
          ],
          "name": "stdout"
        }
      ]
    },
    {
      "cell_type": "code",
      "metadata": {
        "colab": {
          "base_uri": "https://localhost:8080/"
        },
        "id": "p-toVhB0fvIT",
        "outputId": "31c8fdde-f497-431c-9924-384997027240"
      },
      "source": [
        "!pwd"
      ],
      "execution_count": 3,
      "outputs": [
        {
          "output_type": "stream",
          "text": [
            "/content\n"
          ],
          "name": "stdout"
        }
      ]
    },
    {
      "cell_type": "markdown",
      "metadata": {
        "id": "m7q29Bwkf0SP"
      },
      "source": [
        "!pwd는 현재 위치를 알려준다. \n",
        "알아두기!"
      ]
    },
    {
      "cell_type": "code",
      "metadata": {
        "colab": {
          "base_uri": "https://localhost:8080/"
        },
        "id": "ru2yK5AofwaE",
        "outputId": "fc94c4f0-7f08-42c0-da73-e94508561ea9"
      },
      "source": [
        "!ls -l ./sample_data/"
      ],
      "execution_count": 4,
      "outputs": [
        {
          "output_type": "stream",
          "text": [
            "total 55504\n",
            "-rwxr-xr-x 1 root root     1697 Jan  1  2000 anscombe.json\n",
            "-rw-r--r-- 1 root root   301141 Jun 15 13:37 california_housing_test.csv\n",
            "-rw-r--r-- 1 root root  1706430 Jun 15 13:37 california_housing_train.csv\n",
            "-rw-r--r-- 1 root root 18289443 Jun 15 13:37 mnist_test.csv\n",
            "-rw-r--r-- 1 root root 36523880 Jun 15 13:37 mnist_train_small.csv\n",
            "-rwxr-xr-x 1 root root      930 Jan  1  2000 README.md\n"
          ],
          "name": "stdout"
        }
      ]
    },
    {
      "cell_type": "code",
      "metadata": {
        "colab": {
          "base_uri": "https://localhost:8080/"
        },
        "id": "AxghoHfaguJ7",
        "outputId": "0014ef0b-86bc-4b38-a250-a11edb6c43b4"
      },
      "source": [
        "!ls -l ./wholesale.xls"
      ],
      "execution_count": 31,
      "outputs": [
        {
          "output_type": "stream",
          "text": [
            "-rw-r--r-- 1 root root 46592 Jul  2 06:29 ./wholesale.xls\n"
          ],
          "name": "stdout"
        }
      ]
    },
    {
      "cell_type": "code",
      "metadata": {
        "colab": {
          "base_uri": "https://localhost:8080/",
          "height": 456
        },
        "id": "asGHKaIGnLvN",
        "outputId": "d6f6b96e-428f-4491-d1bc-6c8483c788b5"
      },
      "source": [
        "import pandas as pd\n",
        "df = pd.read_excel('./wholesale.xls')\n",
        "df"
      ],
      "execution_count": 34,
      "outputs": [
        {
          "output_type": "execute_result",
          "data": {
            "text/html": [
              "<div>\n",
              "<style scoped>\n",
              "    .dataframe tbody tr th:only-of-type {\n",
              "        vertical-align: middle;\n",
              "    }\n",
              "\n",
              "    .dataframe tbody tr th {\n",
              "        vertical-align: top;\n",
              "    }\n",
              "\n",
              "    .dataframe thead th {\n",
              "        text-align: right;\n",
              "    }\n",
              "</style>\n",
              "<table border=\"1\" class=\"dataframe\">\n",
              "  <thead>\n",
              "    <tr style=\"text-align: right;\">\n",
              "      <th></th>\n",
              "      <th>Unnamed: 0</th>\n",
              "      <th>Channel</th>\n",
              "      <th>Region</th>\n",
              "      <th>Fresh</th>\n",
              "      <th>Milk</th>\n",
              "      <th>Grocery</th>\n",
              "      <th>Frozen</th>\n",
              "      <th>Detergents_Paper</th>\n",
              "      <th>Delicassen</th>\n",
              "      <th>label</th>\n",
              "    </tr>\n",
              "  </thead>\n",
              "  <tbody>\n",
              "    <tr>\n",
              "      <th>0</th>\n",
              "      <td>0</td>\n",
              "      <td>2</td>\n",
              "      <td>3</td>\n",
              "      <td>12669</td>\n",
              "      <td>9656</td>\n",
              "      <td>7561</td>\n",
              "      <td>214</td>\n",
              "      <td>2674</td>\n",
              "      <td>1338</td>\n",
              "      <td>4</td>\n",
              "    </tr>\n",
              "    <tr>\n",
              "      <th>1</th>\n",
              "      <td>1</td>\n",
              "      <td>2</td>\n",
              "      <td>3</td>\n",
              "      <td>7057</td>\n",
              "      <td>9810</td>\n",
              "      <td>9568</td>\n",
              "      <td>1762</td>\n",
              "      <td>3293</td>\n",
              "      <td>1776</td>\n",
              "      <td>4</td>\n",
              "    </tr>\n",
              "    <tr>\n",
              "      <th>2</th>\n",
              "      <td>2</td>\n",
              "      <td>2</td>\n",
              "      <td>3</td>\n",
              "      <td>6353</td>\n",
              "      <td>8808</td>\n",
              "      <td>7684</td>\n",
              "      <td>2405</td>\n",
              "      <td>3516</td>\n",
              "      <td>7844</td>\n",
              "      <td>4</td>\n",
              "    </tr>\n",
              "    <tr>\n",
              "      <th>3</th>\n",
              "      <td>3</td>\n",
              "      <td>1</td>\n",
              "      <td>3</td>\n",
              "      <td>13265</td>\n",
              "      <td>1196</td>\n",
              "      <td>4221</td>\n",
              "      <td>6404</td>\n",
              "      <td>507</td>\n",
              "      <td>1788</td>\n",
              "      <td>2</td>\n",
              "    </tr>\n",
              "    <tr>\n",
              "      <th>4</th>\n",
              "      <td>4</td>\n",
              "      <td>2</td>\n",
              "      <td>3</td>\n",
              "      <td>22615</td>\n",
              "      <td>5410</td>\n",
              "      <td>7198</td>\n",
              "      <td>3915</td>\n",
              "      <td>1777</td>\n",
              "      <td>5185</td>\n",
              "      <td>4</td>\n",
              "    </tr>\n",
              "    <tr>\n",
              "      <th>...</th>\n",
              "      <td>...</td>\n",
              "      <td>...</td>\n",
              "      <td>...</td>\n",
              "      <td>...</td>\n",
              "      <td>...</td>\n",
              "      <td>...</td>\n",
              "      <td>...</td>\n",
              "      <td>...</td>\n",
              "      <td>...</td>\n",
              "      <td>...</td>\n",
              "    </tr>\n",
              "    <tr>\n",
              "      <th>435</th>\n",
              "      <td>435</td>\n",
              "      <td>1</td>\n",
              "      <td>3</td>\n",
              "      <td>29703</td>\n",
              "      <td>12051</td>\n",
              "      <td>16027</td>\n",
              "      <td>13135</td>\n",
              "      <td>182</td>\n",
              "      <td>2204</td>\n",
              "      <td>2</td>\n",
              "    </tr>\n",
              "    <tr>\n",
              "      <th>436</th>\n",
              "      <td>436</td>\n",
              "      <td>1</td>\n",
              "      <td>3</td>\n",
              "      <td>39228</td>\n",
              "      <td>1431</td>\n",
              "      <td>764</td>\n",
              "      <td>4510</td>\n",
              "      <td>93</td>\n",
              "      <td>2346</td>\n",
              "      <td>2</td>\n",
              "    </tr>\n",
              "    <tr>\n",
              "      <th>437</th>\n",
              "      <td>437</td>\n",
              "      <td>2</td>\n",
              "      <td>3</td>\n",
              "      <td>14531</td>\n",
              "      <td>15488</td>\n",
              "      <td>30243</td>\n",
              "      <td>437</td>\n",
              "      <td>14841</td>\n",
              "      <td>1867</td>\n",
              "      <td>4</td>\n",
              "    </tr>\n",
              "    <tr>\n",
              "      <th>438</th>\n",
              "      <td>438</td>\n",
              "      <td>1</td>\n",
              "      <td>3</td>\n",
              "      <td>10290</td>\n",
              "      <td>1981</td>\n",
              "      <td>2232</td>\n",
              "      <td>1038</td>\n",
              "      <td>168</td>\n",
              "      <td>2125</td>\n",
              "      <td>2</td>\n",
              "    </tr>\n",
              "    <tr>\n",
              "      <th>439</th>\n",
              "      <td>439</td>\n",
              "      <td>1</td>\n",
              "      <td>3</td>\n",
              "      <td>2787</td>\n",
              "      <td>1698</td>\n",
              "      <td>2510</td>\n",
              "      <td>65</td>\n",
              "      <td>477</td>\n",
              "      <td>52</td>\n",
              "      <td>2</td>\n",
              "    </tr>\n",
              "  </tbody>\n",
              "</table>\n",
              "<p>440 rows × 10 columns</p>\n",
              "</div>"
            ],
            "text/plain": [
              "     Unnamed: 0  Channel  Region  ...  Detergents_Paper  Delicassen  label\n",
              "0             0        2       3  ...              2674        1338      4\n",
              "1             1        2       3  ...              3293        1776      4\n",
              "2             2        2       3  ...              3516        7844      4\n",
              "3             3        1       3  ...               507        1788      2\n",
              "4             4        2       3  ...              1777        5185      4\n",
              "..          ...      ...     ...  ...               ...         ...    ...\n",
              "435         435        1       3  ...               182        2204      2\n",
              "436         436        1       3  ...                93        2346      2\n",
              "437         437        2       3  ...             14841        1867      4\n",
              "438         438        1       3  ...               168        2125      2\n",
              "439         439        1       3  ...               477          52      2\n",
              "\n",
              "[440 rows x 10 columns]"
            ]
          },
          "metadata": {
            "tags": []
          },
          "execution_count": 34
        }
      ]
    },
    {
      "cell_type": "code",
      "metadata": {
        "colab": {
          "base_uri": "https://localhost:8080/",
          "height": 179
        },
        "id": "Uxylq73P6akD",
        "outputId": "dc1bb6e0-1415-4436-c514-a5455f3304e5"
      },
      "source": [
        "df.head(3)"
      ],
      "execution_count": 35,
      "outputs": [
        {
          "output_type": "execute_result",
          "data": {
            "text/html": [
              "<div>\n",
              "<style scoped>\n",
              "    .dataframe tbody tr th:only-of-type {\n",
              "        vertical-align: middle;\n",
              "    }\n",
              "\n",
              "    .dataframe tbody tr th {\n",
              "        vertical-align: top;\n",
              "    }\n",
              "\n",
              "    .dataframe thead th {\n",
              "        text-align: right;\n",
              "    }\n",
              "</style>\n",
              "<table border=\"1\" class=\"dataframe\">\n",
              "  <thead>\n",
              "    <tr style=\"text-align: right;\">\n",
              "      <th></th>\n",
              "      <th>Unnamed: 0</th>\n",
              "      <th>Channel</th>\n",
              "      <th>Region</th>\n",
              "      <th>Fresh</th>\n",
              "      <th>Milk</th>\n",
              "      <th>Grocery</th>\n",
              "      <th>Frozen</th>\n",
              "      <th>Detergents_Paper</th>\n",
              "      <th>Delicassen</th>\n",
              "      <th>label</th>\n",
              "    </tr>\n",
              "  </thead>\n",
              "  <tbody>\n",
              "    <tr>\n",
              "      <th>0</th>\n",
              "      <td>0</td>\n",
              "      <td>2</td>\n",
              "      <td>3</td>\n",
              "      <td>12669</td>\n",
              "      <td>9656</td>\n",
              "      <td>7561</td>\n",
              "      <td>214</td>\n",
              "      <td>2674</td>\n",
              "      <td>1338</td>\n",
              "      <td>4</td>\n",
              "    </tr>\n",
              "    <tr>\n",
              "      <th>1</th>\n",
              "      <td>1</td>\n",
              "      <td>2</td>\n",
              "      <td>3</td>\n",
              "      <td>7057</td>\n",
              "      <td>9810</td>\n",
              "      <td>9568</td>\n",
              "      <td>1762</td>\n",
              "      <td>3293</td>\n",
              "      <td>1776</td>\n",
              "      <td>4</td>\n",
              "    </tr>\n",
              "    <tr>\n",
              "      <th>2</th>\n",
              "      <td>2</td>\n",
              "      <td>2</td>\n",
              "      <td>3</td>\n",
              "      <td>6353</td>\n",
              "      <td>8808</td>\n",
              "      <td>7684</td>\n",
              "      <td>2405</td>\n",
              "      <td>3516</td>\n",
              "      <td>7844</td>\n",
              "      <td>4</td>\n",
              "    </tr>\n",
              "  </tbody>\n",
              "</table>\n",
              "</div>"
            ],
            "text/plain": [
              "   Unnamed: 0  Channel  Region  ...  Detergents_Paper  Delicassen  label\n",
              "0           0        2       3  ...              2674        1338      4\n",
              "1           1        2       3  ...              3293        1776      4\n",
              "2           2        2       3  ...              3516        7844      4\n",
              "\n",
              "[3 rows x 10 columns]"
            ]
          },
          "metadata": {
            "tags": []
          },
          "execution_count": 35
        }
      ]
    },
    {
      "cell_type": "code",
      "metadata": {
        "colab": {
          "base_uri": "https://localhost:8080/"
        },
        "id": "MgOxjrsd8vmg",
        "outputId": "5c220d47-9a0a-4b61-ee16-258f7bdab663"
      },
      "source": [
        "Y = df['label']\n",
        "X = df.iloc[:,1:9]\n",
        "Y.shape, X.shape"
      ],
      "execution_count": 36,
      "outputs": [
        {
          "output_type": "execute_result",
          "data": {
            "text/plain": [
              "((440,), (440, 8))"
            ]
          },
          "metadata": {
            "tags": []
          },
          "execution_count": 36
        }
      ]
    },
    {
      "cell_type": "code",
      "metadata": {
        "colab": {
          "base_uri": "https://localhost:8080/"
        },
        "id": "wgPhFYFO9TpX",
        "outputId": "1f66c92f-6cb1-48c1-883b-726ecc0419be"
      },
      "source": [
        "from sklearn.tree import DecisionTreeClassifier\n",
        "dtree = DecisionTreeClassifier()\n",
        "dtree.fit(X,Y)"
      ],
      "execution_count": 37,
      "outputs": [
        {
          "output_type": "execute_result",
          "data": {
            "text/plain": [
              "DecisionTreeClassifier(ccp_alpha=0.0, class_weight=None, criterion='gini',\n",
              "                       max_depth=None, max_features=None, max_leaf_nodes=None,\n",
              "                       min_impurity_decrease=0.0, min_impurity_split=None,\n",
              "                       min_samples_leaf=1, min_samples_split=2,\n",
              "                       min_weight_fraction_leaf=0.0, presort='deprecated',\n",
              "                       random_state=None, splitter='best')"
            ]
          },
          "metadata": {
            "tags": []
          },
          "execution_count": 37
        }
      ]
    },
    {
      "cell_type": "code",
      "metadata": {
        "colab": {
          "base_uri": "https://localhost:8080/"
        },
        "id": "8zmDrY58-CMq",
        "outputId": "cb4b02a7-e963-472b-fbdd-6076ebbe0648"
      },
      "source": [
        "dtree.score(X,Y)"
      ],
      "execution_count": 38,
      "outputs": [
        {
          "output_type": "execute_result",
          "data": {
            "text/plain": [
              "1.0"
            ]
          },
          "metadata": {
            "tags": []
          },
          "execution_count": 38
        }
      ]
    },
    {
      "cell_type": "code",
      "metadata": {
        "id": "3MIbeR2p-FOK"
      },
      "source": [
        ""
      ],
      "execution_count": null,
      "outputs": []
    }
  ]
}